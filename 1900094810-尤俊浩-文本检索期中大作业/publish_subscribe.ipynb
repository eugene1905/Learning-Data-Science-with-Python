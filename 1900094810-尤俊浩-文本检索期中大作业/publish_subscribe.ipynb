{
 "cells": [
  {
   "cell_type": "code",
   "execution_count": 1,
   "id": "crucial-container",
   "metadata": {},
   "outputs": [],
   "source": [
    "class Poem():\n",
    "    def __init__(self,_id, _t, _a = \"\", _c = ()):\n",
    "        self.id = _id\n",
    "        self.title = _t\n",
    "        self.author = _a\n",
    "        self.content = _c\n",
    "        \n",
    "    def __str__(self):\n",
    "        msg = f\"{self.author}《{self.title}》\\n\\n\"\n",
    "        for i in self.content:\n",
    "            msg += i+\"\\n\\n\"\n",
    "        return msg"
   ]
  },
  {
   "cell_type": "markdown",
   "id": "excess-latin",
   "metadata": {},
   "source": [
    "# 发布者"
   ]
  },
  {
   "cell_type": "code",
   "execution_count": 2,
   "id": "intended-summit",
   "metadata": {},
   "outputs": [],
   "source": [
    "class Publisher(object):\n",
    "    def __init__(self,name):\n",
    "        self.authors = [\"李白\", \"杜甫\", \"白居易\", \"王維\"]\n",
    "        self.readers = {\"李白\":[], \"杜甫\":[], \"白居易\":[], \"王維\": []}\n",
    "        self.name=name\n",
    "        self.totalNumber={\"李白\":0,\"杜甫\":0,\"白居易\":0,\"王維\":0 }\n",
    "            \n",
    "    def subscribeReader(self, author, reader):\n",
    "        if author != \"\":\n",
    "            if author not in self.readers.keys():\n",
    "                self.readers[author] = [reader]\n",
    "            else:\n",
    "                self.readers[author].append(reader)\n",
    "            for i in self.apoems[author]:\n",
    "                reader.receivePoem(i,self)\n",
    "        return self"
   ]
  },
  {
   "cell_type": "markdown",
   "id": "anonymous-property",
   "metadata": {},
   "source": [
    "# 订阅者"
   ]
  },
  {
   "cell_type": "code",
   "execution_count": 3,
   "id": "broken-quarter",
   "metadata": {},
   "outputs": [],
   "source": [
    "class Reader(object):\n",
    "\n",
    "    def __init__(self,name):\n",
    "        # BaseReader 的初始化方法\n",
    "        self.name=name\n",
    "        self.publishers=[]\n",
    "        self.authors = []\n",
    "        self.subs = []\n",
    "        self.poems =  {\"李白\":[],\"杜甫\":[],\"白居易\":[],\"王維\":[]}\n",
    "        \n",
    "    def subscribeToPublisher(self, author, publisher, keyword):\n",
    "        # Reader向Publisher订阅\n",
    "        if author != \"\":\n",
    "            publisher.subscribeReader(author, self)\n",
    "            self.publishers.append(publisher)\n",
    "            self.authors.append(author)\n",
    "        self.subs.append([author,keyword])\n",
    "        \n",
    "        \n",
    "    def __str__(self):\n",
    "        pubs = f'Subscribed Publisher: {[publisher.name for publisher in self.publishers]}\\n'\n",
    "        return pubs\n",
    "    \n",
    "    def receivePoem(self, poem, publisher):\n",
    "        author = poem.author\n",
    "        if author not in self.poems:\n",
    "            self.poems[author] = [poem]\n",
    "        elif poem not in self.poems[author]:\n",
    "            self.poems[author].append(poem)\n",
    "    "
   ]
  }
 ],
 "metadata": {
  "kernelspec": {
   "display_name": "Python 3",
   "language": "python",
   "name": "python3"
  },
  "language_info": {
   "codemirror_mode": {
    "name": "ipython",
    "version": 3
   },
   "file_extension": ".py",
   "mimetype": "text/x-python",
   "name": "python",
   "nbconvert_exporter": "python",
   "pygments_lexer": "ipython3",
   "version": "3.9.2"
  },
  "latex_envs": {
   "LaTeX_envs_menu_present": true,
   "autoclose": false,
   "autocomplete": true,
   "bibliofile": "biblio.bib",
   "cite_by": "apalike",
   "current_citInitial": 1,
   "eqLabelWithNumbers": true,
   "eqNumInitial": 1,
   "hotkeys": {
    "equation": "Ctrl-E",
    "itemize": "Ctrl-I"
   },
   "labels_anchors": false,
   "latex_user_defs": false,
   "report_style_numbering": false,
   "user_envs_cfg": false
  }
 },
 "nbformat": 4,
 "nbformat_minor": 5
}
