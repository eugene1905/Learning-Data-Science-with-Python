{
 "cells": [
  {
   "cell_type": "markdown",
   "id": "189f58fb",
   "metadata": {},
   "source": [
    "# 1. 神经网络结构设计与调优\n",
    "在人工构造的MNIST数据集的子集上进行训练/测试，要求：\n",
    "\n",
    "（1）参考课件中给出的代码，实现以下两种不同的网络结构（要求用numpy手动实现前向传播和反向传播等过程）：\n",
    "- 2层前馈网络，以sigmoid或tanh作为激活函数（选择效果较好的一个即可），隐含层维度自定\n",
    "- 3层前馈网络，以relu作为激活函数，隐含层维度自定\n",
    "\n",
    "（2）两个网络在测试集上分类准确率均$\\ge$90%\n",
    "\n",
    "（3）画出训练过程中训练集上loss和训练集上accuracy的变化曲线\n",
    "\n",
    "（4）参考课件中给出的代码，可视化神经网络在测试集上的预测结果，要求标出true positive(TP)以及TN/FP/FN，并计算accuracy\n",
    "\n",
    "（5）公平起见，只能用给出的MNIST子集，不能自行取其他子集\n",
    "\n",
    "\n",
    "本次作业涉及到的激活函数的定义及其导函数：\n",
    "- $sigmoid(x)=1/(1+e^{-x})$, 导函数$sigmoid(x)(1-sigmoid(x))$\n",
    "- $tanh(x)=(e^x-e^{-x})/(e^x+e^{-x})$，导函数$1-tanh^2(x)$\n",
    "- $relu(x)=max(0,x)$，导函数$f(x)=\\begin{cases}1, x>0 \\\\ 0, x\\le0\\end{cases}$\n",
    "\n",
    "调优的角度，包括但不限于：\n",
    "- batch size大小\n",
    "- loss function（MSE，交叉熵……）\n",
    "- 优化器的参数（学习率，学习率调整策略，优化器类型……）\n",
    "- iteration数量\n",
    "\n",
    "其他：\n",
    "- 网络权重初始化策略\n",
    "- 数据预处理"
   ]
  },
  {
   "cell_type": "code",
   "execution_count": 1,
   "id": "b853569c",
   "metadata": {},
   "outputs": [
    {
     "name": "stdout",
     "output_type": "stream",
     "text": [
      "(1000, 784)\n",
      "(1000,)\n",
      "(200, 784)\n",
      "(200,)\n"
     ]
    }
   ],
   "source": [
    "# 读取训练和测试数据\n",
    "# 本次作业为加快训练速度，只取1000个样本作为训练集，200个样本作为测试集\n",
    "# 每个样本原本是28*28的图片，reshape成784维向量输入神经网络\n",
    "# 只取（形状比较相近的）数字8和数字9两个类，做二分类，并将数字8的label重新标为0，数字9的label重新标为1\n",
    "# 两个类的训练样本数不均衡（1:3）\n",
    "# 本部分代码不可修改\n",
    "\n",
    "import numpy as np\n",
    "f = np.load('mnist.npz') \n",
    "x_train, y_train = f['x_train'], f['y_train'] \n",
    "x_test, y_test = f['x_test'], f['y_test'] \n",
    "\n",
    "def get_small_data(x_data, y_data, num1, num2):\n",
    "    cnt1, cnt2, final_x, final_y = 0, 0, [], []\n",
    "    for i in range(x_data.shape[0]):\n",
    "        x = x_data[i, :].reshape(-1).tolist()\n",
    "        y = y_data[i]\n",
    "        if y == 8 and cnt1 < num1:\n",
    "            final_x.append(x)\n",
    "            final_y.append(0)\n",
    "            cnt1 += 1\n",
    "        elif y == 9 and cnt2 < num2:\n",
    "            final_x.append(x)\n",
    "            final_y.append(1)\n",
    "            cnt2 += 1\n",
    "    return np.array(final_x), np.array(final_y)\n",
    "\n",
    "x_train, y_train = get_small_data(x_train, y_train, num1=250, num2=750)\n",
    "x_test, y_test = get_small_data(x_test, y_test, num1=100, num2=100)\n",
    "print(x_train.shape)\n",
    "print(y_train.shape)\n",
    "print(x_test.shape)\n",
    "print(y_test.shape)"
   ]
  },
  {
   "cell_type": "code",
   "execution_count": 2,
   "id": "58ed982e",
   "metadata": {},
   "outputs": [],
   "source": [
    "#Sigmoid function\n",
    "def sigmoid(x):\n",
    "    a = np.exp(-x)\n",
    "    return 1.0 / (1.0 + a)\n",
    "\n",
    "def dsigmoid(x):\n",
    "    return sigmoid(x)*(1-sigmoid(x))\n",
    "\n",
    "#Relu function\n",
    "def relu(x):\n",
    "    res = x.copy()\n",
    "    res[x<=0]=0\n",
    "    return res\n",
    "\n",
    "def drelu(x):\n",
    "    res = x.copy()\n",
    "    res[x<=0]=0\n",
    "    res[x>0]=1\n",
    "    return res\n",
    "\n",
    "#MSE loss\n",
    "def loss_fn(y_pred,y):\n",
    "    res = 0\n",
    "    for i,j in enumerate(y):\n",
    "        res += (y[i]-y_pred[i])**2\n",
    "    return np.log(res / len(y))\n",
    "\n"
   ]
  },
  {
   "cell_type": "markdown",
   "id": "c721923f",
   "metadata": {},
   "source": [
    "# 2层前馈网络"
   ]
  },
  {
   "cell_type": "code",
   "execution_count": 3,
   "id": "1add791f",
   "metadata": {},
   "outputs": [],
   "source": [
    "# 2层前馈网络，以sigmoid或tanh作为激活函数\n",
    "# W为各层权重，X为输入的特征，Y为标签\n",
    "def net1_forward(W1, W2, X, Y):\n",
    "    global debug\n",
    "    #result of 1st layer\n",
    "    Z1 = np.dot(X,W1) #1000x784,784x128 => 1000x128\n",
    "    A1 = sigmoid(Z1) #1000x128\n",
    "    \n",
    "    #result of 2nd layer\n",
    "    Z2 = np.dot(A1,W2) #1000x128,128,1 => 1000x1\n",
    "    A3 = sigmoid(Z2) #1000x1\n",
    "    \n",
    "    #反向梯度传播\n",
    "    J_Z2_grad = -Y + A3 #1000x1\n",
    "    J_W2_grad = np.dot(J_Z2_grad, A1) #1000x1, 1000x128 => 128x1\n",
    "    \n",
    "    A1_Z1_grad = dsigmoid(Z1)\n",
    "    J_W1_grad = (np.dot((J_Z2_grad).reshape(-1,1), W2.reshape(-1,1).T)*A1_Z1_grad).T.dot(X).T\n",
    "    \n",
    "    gradient = (J_W1_grad, J_W2_grad)\n",
    "    return A3, gradient"
   ]
  },
  {
   "cell_type": "code",
   "execution_count": 4,
   "id": "6f78fa13",
   "metadata": {},
   "outputs": [
    {
     "name": "stdout",
     "output_type": "stream",
     "text": [
      "iteration 0: log loss is -1.39; accuracy is 0.75\n"
     ]
    },
    {
     "name": "stderr",
     "output_type": "stream",
     "text": [
      "<ipython-input-2-fe75b8e84edb>:3: RuntimeWarning: overflow encountered in exp\n",
      "  a = np.exp(-x)\n"
     ]
    },
    {
     "name": "stdout",
     "output_type": "stream",
     "text": [
      "iteration 250: log loss is -4.18; accuracy is 0.981\n",
      "iteration 500: log loss is -4.55; accuracy is 0.99\n",
      "iteration 750: log loss is -4.80; accuracy is 0.991\n",
      "iteration 1000: log loss is -5.01; accuracy is 0.993\n",
      "iteration 1250: log loss is -5.20; accuracy is 0.995\n",
      "iteration 1500: log loss is -5.36; accuracy is 0.996\n",
      "iteration 1750: log loss is -5.50; accuracy is 0.998\n"
     ]
    }
   ],
   "source": [
    "W1 = np.random.uniform(-1,1,size=(784,128))\n",
    "W2 = np.random.uniform(-1,1,size=(128))\n",
    "n = 1000\n",
    "num_iter = 2000\n",
    "learning_rate =.001\n",
    "loss_vals, accuracies = [],[]\n",
    "for i in range(num_iter):\n",
    "    y_pred, (J_W1_grad, J_W2_grad) = net1_forward(W1,W2,x_train,y_train)\n",
    "    W1 = W1 - learning_rate * J_W1_grad\n",
    "    W2 = W2 - learning_rate * J_W2_grad\n",
    "    \n",
    "    #Compute loss and accuracy\n",
    "    curr_loss = loss_fn(y_train,y_pred)\n",
    "    loss_vals.append(curr_loss)\n",
    "    acc = np.sum((y_pred>=.5) == y_train)/n\n",
    "    accuracies.append(acc)\n",
    "    if((i%250)==0):\n",
    "        print(f\"iteration {i}: log loss is {curr_loss:.2f}; accuracy is {acc}\")\n"
   ]
  },
  {
   "cell_type": "code",
   "execution_count": 5,
   "id": "02c73b02",
   "metadata": {},
   "outputs": [
    {
     "name": "stdout",
     "output_type": "stream",
     "text": [
      "test accuracy: 0.915\n"
     ]
    },
    {
     "name": "stderr",
     "output_type": "stream",
     "text": [
      "<ipython-input-2-fe75b8e84edb>:3: RuntimeWarning: overflow encountered in exp\n",
      "  a = np.exp(-x)\n"
     ]
    }
   ],
   "source": [
    "# test\n",
    "y_pred, (J_W1_grad, J_W2_grad) = net1_forward(W1,W2,x_test,y_test)\n",
    "acc = np.sum((y_pred>=.5) == y_test)/200\n",
    "print(f\"test accuracy: {acc}\")"
   ]
  },
  {
   "cell_type": "code",
   "execution_count": 6,
   "id": "3a680844",
   "metadata": {},
   "outputs": [
    {
     "data": {
      "image/png": "[encoded data removed]",
      "text/plain": [
       "<Figure size 360x216 with 1 Axes>"
      ]
     },
     "metadata": {
      "needs_background": "light"
     },
     "output_type": "display_data"
    },
    {
     "data": {
      "image/png": "[encoded data removed]",
      "text/plain": [
       "<Figure size 360x216 with 1 Axes>"
      ]
     },
     "metadata": {
      "needs_background": "light"
     },
     "output_type": "display_data"
    }
   ],
   "source": [
    "# 训练集的loss和accuracy\n",
    "import matplotlib.pyplot as plt\n",
    "f1 = plt.figure(1, figsize = (5,3))    \n",
    "plt.plot(loss_vals)\n",
    "plt.title('log loss')\n",
    "plt.xlabel('Iterations')\n",
    "plt.ylabel('Values')\n",
    "\n",
    "f2 = plt.figure(2, figsize = (5,3)) \n",
    "plt.plot(accuracies)\n",
    "plt.title('Accuracy')\n",
    "plt.xlabel('Iterations')\n",
    "plt.ylabel('Values')\n",
    "plt.show()"
   ]
  },
  {
   "cell_type": "code",
   "execution_count": 7,
   "id": "81b7e212",
   "metadata": {},
   "outputs": [
    {
     "name": "stdout",
     "output_type": "stream",
     "text": [
      "Accuracy = 0.915\n"
     ]
    },
    {
     "data": {
      "image/png": "[encoded data removed]",
      "text/plain": [
       "<Figure size 576x576 with 1 Axes>"
      ]
     },
     "metadata": {
      "needs_background": "light"
     },
     "output_type": "display_data"
    }
   ],
   "source": [
    "#模型预测结果可视化\n",
    "from sklearn.decomposition import PCA\n",
    "pca_model = PCA(n_components=2)\n",
    "pca_model.fit(x_test)\n",
    "pca_2d = pca_model.transform(x_test)\n",
    "\n",
    "pred1 = (y_pred>=.5)\n",
    "pred0 = (y_pred<.5)\n",
    "\n",
    "fig, ax = plt.subplots(figsize=(8,8))\n",
    "# true predictions\n",
    "ax.plot(pca_2d[pred1 & (y_test==1), 0], pca_2d[pred1 & (y_test==1), 1], 'ro', label='true positives')\n",
    "ax.plot(pca_2d[pred0 & (y_test==0), 0], pca_2d[pred0 & (y_test==0), 1], 'bx', label='true negatives')\n",
    "# false predictions\n",
    "ax.plot(pca_2d[pred1 & (y_test==0), 0], pca_2d[pred1 & (y_test==0), 1], 'yx', label='false positives')\n",
    "ax.plot(pca_2d[pred0 & (y_test==1), 0], pca_2d[pred0 & (y_test==1), 1], 'yo', label='false negatives')\n",
    "ax.set(title='Truth vs Prediction')\n",
    "ax.legend(bbox_to_anchor=(1,0.8),fancybox=True, shadow=True,fontsize='x-large')\n",
    "accuracy = (len(pca_2d[pred1&(y_test)==1]) + len(pca_2d[pred0&(y_test==0)]))/len(pca_2d)\n",
    "print(f\"Accuracy = {accuracy}\")"
   ]
  },
  {
   "cell_type": "markdown",
   "id": "57dcca07",
   "metadata": {},
   "source": [
    "# 3层前馈网络"
   ]
  },
  {
   "cell_type": "code",
   "execution_count": 8,
   "id": "6a1a8821",
   "metadata": {},
   "outputs": [],
   "source": [
    "# 3层前馈网络，以relu作为激活函数\n",
    "def net2_forward(W1, W2, W3, X, Y):\n",
    "    #1st layer\n",
    "    Z1 = np.dot(X,W1) #1000x784,784x128 => 1000x128\n",
    "    A1 = relu(Z1) #1000x128\n",
    "    #2nd layer\n",
    "    Z2 = np.dot(A1,W2) #1000x128,128x64 => 1000x64\n",
    "    A2 = relu(Z2) #1000x64\n",
    "    #3rd layer\n",
    "    Z3 = np.dot(A2,W3) #1000x64,64x1\n",
    "    A3 = sigmoid(Z3) #1000x1\n",
    "      \n",
    "    #反向梯度传播\n",
    "    J_Z3_grad = -Y + A3 #1000x1\n",
    "    J_W3_grad = np.dot(J_Z3_grad, A2) #1000x1,1000x128 => 128x1\n",
    "    \n",
    "    A2_Z2_grad = drelu(Z2) #1000x64\n",
    "    J_W2_grad = (np.dot((J_Z3_grad).reshape(-1,1), W3.reshape(-1,1).T)*A2_Z2_grad).T.dot(A1).T\n",
    "    \n",
    "    A1_Z1_grad = drelu(Z1) #1000x128\n",
    "    J_W1_grad = ((np.dot((J_Z3_grad).reshape(-1,1), W3.reshape(-1,1).T)*A2_Z2_grad).dot(W2.T)*A1_Z1_grad).T.dot(X).T\n",
    "    #1000x1, 1x64 => 1000x64 * 1000x64 => 1000x64, 64x128 => 1000x128 * 1000x128 => 128x1000, 1000x728 => 728x128\n",
    "    return A3, (J_W1_grad, J_W2_grad, J_W3_grad)\n",
    "    "
   ]
  },
  {
   "cell_type": "code",
   "execution_count": 24,
   "id": "50b287bb",
   "metadata": {},
   "outputs": [
    {
     "name": "stderr",
     "output_type": "stream",
     "text": [
      "<ipython-input-2-fe75b8e84edb>:3: RuntimeWarning: overflow encountered in exp\n",
      "  a = np.exp(-x)\n"
     ]
    },
    {
     "name": "stdout",
     "output_type": "stream",
     "text": [
      "iteration 0: log loss is -0.30; accuracy is 0.256\n",
      "iteration 500: log loss is -2.43; accuracy is 0.912\n",
      "iteration 1000: log loss is -2.98; accuracy is 0.949\n",
      "iteration 1500: log loss is -3.18; accuracy is 0.958\n",
      "iteration 2000: log loss is -3.65; accuracy is 0.974\n",
      "iteration 2500: log loss is -4.33; accuracy is 0.987\n"
     ]
    }
   ],
   "source": [
    "W1 = np.random.uniform(-1,1,size=(784,256))\n",
    "W2 = np.random.uniform(-1,1,size=(256,128))\n",
    "W3 = np.random.uniform(-1,1,size=(128,))\n",
    "n = 1000\n",
    "num_iter = 3000\n",
    "learning_rate =.000000001\n",
    "loss_vals, accuracies = [],[]\n",
    "for i in range(num_iter):\n",
    "    y_pred, (J_W1_grad, J_W2_grad, J_W3_grad) = net2_forward(W1,W2,W3,x_train,y_train)\n",
    "    W1 = W1 - learning_rate * J_W1_grad\n",
    "    W2 = W2 - learning_rate * J_W2_grad\n",
    "    W3 = W3 - learning_rate * J_W3_grad\n",
    "    \n",
    "    #Compute loss and accuracy\n",
    "    curr_loss = loss_fn(y_train,y_pred)\n",
    "    loss_vals.append(curr_loss)\n",
    "    acc = np.sum((y_pred>=.5) == y_train)/n\n",
    "    accuracies.append(acc)\n",
    "    if((i%500)==0):\n",
    "        print(f\"iteration {i}: log loss is {curr_loss:.2f}; accuracy is {acc}\")\n"
   ]
  },
  {
   "cell_type": "code",
   "execution_count": 25,
   "id": "e6bbac61",
   "metadata": {},
   "outputs": [
    {
     "name": "stdout",
     "output_type": "stream",
     "text": [
      "test accuracy: 0.92\n"
     ]
    },
    {
     "name": "stderr",
     "output_type": "stream",
     "text": [
      "<ipython-input-2-fe75b8e84edb>:3: RuntimeWarning: overflow encountered in exp\n",
      "  a = np.exp(-x)\n"
     ]
    }
   ],
   "source": [
    "# test\n",
    "y_pred, (J_W1_grad, J_W2_grad, J_W3_grad) = net2_forward(W1,W2,W3,x_test,y_test)\n",
    "acc = np.sum((y_pred>=.5) == y_test)/200\n",
    "print(f\"test accuracy: {acc}\")"
   ]
  },
  {
   "cell_type": "code",
   "execution_count": 26,
   "id": "f71efa3b",
   "metadata": {},
   "outputs": [
    {
     "data": {
      "image/png": "[encoded data removed]",
      "text/plain": [
       "<Figure size 360x216 with 1 Axes>"
      ]
     },
     "metadata": {
      "needs_background": "light"
     },
     "output_type": "display_data"
    },
    {
     "data": {
      "image/png": "[encoded data removed]",
      "text/plain": [
       "<Figure size 360x216 with 1 Axes>"
      ]
     },
     "metadata": {
      "needs_background": "light"
     },
     "output_type": "display_data"
    }
   ],
   "source": [
    "# 训练集的loss和accuracy\n",
    "import matplotlib.pyplot as plt\n",
    "f1 = plt.figure(1, figsize = (5,3))    \n",
    "plt.plot(loss_vals)\n",
    "plt.title('log loss')\n",
    "plt.xlabel('Iterations')\n",
    "plt.ylabel('Values')\n",
    "\n",
    "f2 = plt.figure(2, figsize = (5,3)) \n",
    "plt.plot(accuracies)\n",
    "plt.title('Accuracy')\n",
    "plt.xlabel('Iterations')\n",
    "plt.ylabel('Values')\n",
    "plt.show()"
   ]
  },
  {
   "cell_type": "code",
   "execution_count": 27,
   "id": "ff4b9d04",
   "metadata": {},
   "outputs": [
    {
     "name": "stdout",
     "output_type": "stream",
     "text": [
      "Accuracy = 0.92\n"
     ]
    },
    {
     "data": {
      "image/png": "[encoded data removed]",
      "text/plain": [
       "<Figure size 576x576 with 1 Axes>"
      ]
     },
     "metadata": {
      "needs_background": "light"
     },
     "output_type": "display_data"
    }
   ],
   "source": [
    "#模型预测结果可视化\n",
    "from sklearn.decomposition import PCA\n",
    "pca_model = PCA(n_components=2)\n",
    "pca_model.fit(x_test)\n",
    "pca_2d = pca_model.transform(x_test)\n",
    "\n",
    "pred1 = (y_pred>=.5)\n",
    "pred0 = (y_pred<.5)\n",
    "\n",
    "fig, ax = plt.subplots(figsize=(8,8))\n",
    "# true predictions\n",
    "ax.plot(pca_2d[pred1 & (y_test==1), 0], pca_2d[pred1 & (y_test==1), 1], 'ro', label='true positives')\n",
    "ax.plot(pca_2d[pred0 & (y_test==0), 0], pca_2d[pred0 & (y_test==0), 1], 'bx', label='true negatives')\n",
    "# false predictions\n",
    "ax.plot(pca_2d[pred1 & (y_test==0), 0], pca_2d[pred1 & (y_test==0), 1], 'yx', label='false positives')\n",
    "ax.plot(pca_2d[pred0 & (y_test==1), 0], pca_2d[pred0 & (y_test==1), 1], 'yo', label='false negatives')\n",
    "ax.set(title='Truth vs Prediction')\n",
    "ax.legend(bbox_to_anchor=(1,0.8),fancybox=True, shadow=True,fontsize='x-large')\n",
    "accuracy = (len(pca_2d[pred1&(y_test)==1]) + len(pca_2d[pred0&(y_test==0)]))/len(pca_2d)\n",
    "print(f\"Accuracy = {accuracy}\")"
   ]
  },
  {
   "cell_type": "markdown",
   "id": "ac2d0167",
   "metadata": {},
   "source": [
    "# 2. PyTorch基础练习\n",
    "请注意，本题要求全部基于pytorch实现，不能使用pytorch的.tolist()或者.numpy()等函数将tensor转换成list或者numpy array来处理"
   ]
  },
  {
   "cell_type": "markdown",
   "id": "6ff6d5cf",
   "metadata": {},
   "source": [
    "（1）首先，创建一个服从标准正态分布的$3\\times 4$的tensor $A$，和一个服从标准正态分布的$2\\times6$的tensor $B$"
   ]
  },
  {
   "cell_type": "code",
   "execution_count": 13,
   "id": "a57c6726",
   "metadata": {},
   "outputs": [
    {
     "data": {
      "text/plain": [
       "(tensor([[ 0.4527,  1.1473,  0.7546, -0.0943],\n",
       "         [-1.1913, -0.6058,  1.4282,  2.3584],\n",
       "         [-1.2204,  1.6657,  1.4779,  1.1672]], dtype=torch.float64,\n",
       "        requires_grad=True),\n",
       " tensor([[ 0.5709, -1.3881,  0.2275, -0.6966, -0.1514,  1.3944],\n",
       "         [ 0.1467,  2.4346,  1.5918, -0.5586,  0.1278, -0.3842]],\n",
       "        dtype=torch.float64, requires_grad=True))"
      ]
     },
     "execution_count": 13,
     "metadata": {},
     "output_type": "execute_result"
    }
   ],
   "source": [
    "import torch\n",
    "A = torch.randn(3,4,dtype=torch.double,requires_grad=True)\n",
    "B = torch.randn(2,6,dtype=torch.double,requires_grad=True)\n",
    "A,B"
   ]
  },
  {
   "cell_type": "markdown",
   "id": "732fc738",
   "metadata": {},
   "source": [
    "（2）使用view操作将$B$的形状也转换成$3\\times 4$，计算$A+B$和$AB^\\top$（矩阵乘法）"
   ]
  },
  {
   "cell_type": "code",
   "execution_count": 14,
   "id": "063b5053",
   "metadata": {},
   "outputs": [
    {
     "name": "stdout",
     "output_type": "stream",
     "text": [
      "tensor([[ 1.0237, -0.2409,  0.9821, -0.7909],\n",
      "        [-1.3427,  0.7886,  1.5750,  4.7930],\n",
      "        [ 0.3714,  1.1071,  1.6057,  0.7830]], dtype=torch.float64,\n",
      "       grad_fn=<AddBackward0>)\n",
      "tensor([[-1.0968,  1.4125,  0.2124],\n",
      "        [-1.1572,  5.2870, -2.2815],\n",
      "        [-3.4859,  5.5660, -3.1326]], dtype=torch.float64,\n",
      "       grad_fn=<MmBackward>)\n"
     ]
    }
   ],
   "source": [
    "B = B.view(3,4)\n",
    "print(A+B)\n",
    "print(torch.mm(A,B.T))"
   ]
  },
  {
   "cell_type": "markdown",
   "id": "9692859b",
   "metadata": {},
   "source": [
    "（3）取出矩阵$A$的所有大于0的值，并按照行的顺序排列成一个一维的tensor $C$。\n",
    "例如：[[0, 0.1, 0.2], [-0.3, 0.4, -0.5]]需要转换成[0.1, 0.2, 0.4]"
   ]
  },
  {
   "cell_type": "code",
   "execution_count": 15,
   "id": "6b157a91",
   "metadata": {},
   "outputs": [
    {
     "data": {
      "text/plain": [
       "tensor([0.4527, 1.1473, 0.7546, 1.4282, 2.3584, 1.6657, 1.4779, 1.1672],\n",
       "       dtype=torch.float64, grad_fn=<IndexBackward>)"
      ]
     },
     "execution_count": 15,
     "metadata": {},
     "output_type": "execute_result"
    }
   ],
   "source": [
    "C = A[torch.gt(A,0)]\n",
    "C"
   ]
  },
  {
   "cell_type": "markdown",
   "id": "6b427e19",
   "metadata": {},
   "source": [
    "（4）将$C$的每个元素平方，得到$D$。计算$D$的平均值$mean(D)$，并求出$mean(D)$对$A$的梯度"
   ]
  },
  {
   "cell_type": "code",
   "execution_count": 16,
   "id": "2617c236",
   "metadata": {},
   "outputs": [
    {
     "data": {
      "text/plain": [
       "(tensor([0.2050, 1.3163, 0.5694, 2.0399, 5.5621, 2.7745, 2.1842, 1.3625],\n",
       "        dtype=torch.float64, grad_fn=<PowBackward0>),\n",
       " tensor(2.0017, dtype=torch.float64, grad_fn=<MeanBackward0>))"
      ]
     },
     "execution_count": 16,
     "metadata": {},
     "output_type": "execute_result"
    }
   ],
   "source": [
    "D = C ** 2\n",
    "out = D.mean()\n",
    "D,out"
   ]
  },
  {
   "cell_type": "code",
   "execution_count": 17,
   "id": "dc2bc05a",
   "metadata": {},
   "outputs": [
    {
     "data": {
      "text/plain": [
       "tensor([[0.1132, 0.2868, 0.1886, 0.0000],\n",
       "        [0.0000, 0.0000, 0.3571, 0.5896],\n",
       "        [0.0000, 0.4164, 0.3695, 0.2918]], dtype=torch.float64)"
      ]
     },
     "execution_count": 17,
     "metadata": {},
     "output_type": "execute_result"
    }
   ],
   "source": [
    "out.backward()\n",
    "A.grad"
   ]
  }
 ],
 "metadata": {
  "kernelspec": {
   "display_name": "Python 3",
   "language": "python",
   "name": "python3"
  },
  "language_info": {
   "codemirror_mode": {
    "name": "ipython",
    "version": 3
   },
   "file_extension": ".py",
   "mimetype": "text/x-python",
   "name": "python",
   "nbconvert_exporter": "python",
   "pygments_lexer": "ipython3",
   "version": "3.8.0"
  }
 },
 "nbformat": 4,
 "nbformat_minor": 5
}
