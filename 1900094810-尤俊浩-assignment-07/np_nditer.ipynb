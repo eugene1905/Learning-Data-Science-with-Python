{
 "cells": [
  {
   "cell_type": "markdown",
   "id": "cae30313",
   "metadata": {},
   "source": [
    "# Numpy进阶 Homework\n",
    "\n",
    "2021.4.13\n",
    "\n",
    "**本次作业将完成numpy迭代器和ufunc的基本操作** "
   ]
  },
  {
   "cell_type": "markdown",
   "id": "93ae6f40",
   "metadata": {},
   "source": [
    "### 1.单维迭代器\n",
    "分别以C,F以及默认顺序遍历a矩阵，观察输出结果（*提示：`np.nditer()`函数包含参数 `order`*）"
   ]
  },
  {
   "cell_type": "code",
   "execution_count": 1,
   "id": "915f5025",
   "metadata": {},
   "outputs": [
    {
     "name": "stdout",
     "output_type": "stream",
     "text": [
      "[[0 1 2]\n",
      " [3 4 5]]\n",
      "0,1,2,3,4,5,\n",
      "0,1,2,3,4,5,\n",
      "0,3,1,4,2,5,"
     ]
    }
   ],
   "source": [
    "import numpy as np\n",
    "a = np.arange(6).reshape(2, 3)\n",
    "print(a)\n",
    "for x in np.nditer(a):\n",
    "    print(x, end=',')\n",
    "print()\n",
    "for x in np.nditer(a, order = 'C'):\n",
    "    print(x, end=',')\n",
    "print()\n",
    "for x in np.nditer(a, order = 'F'):\n",
    "    print(x, end=',')\n"
   ]
  },
  {
   "cell_type": "markdown",
   "id": "c288f02a",
   "metadata": {},
   "source": [
    "**用两种方法实现：**利用迭代器遍历矩阵a，要求返回值顺序为`0,3,1,4,2,5`"
   ]
  },
  {
   "cell_type": "code",
   "execution_count": 2,
   "id": "1689811d",
   "metadata": {},
   "outputs": [
    {
     "name": "stdout",
     "output_type": "stream",
     "text": [
      "0, 3, 1, 4, 2, 5, \n",
      "0, 3, 1, 4, 2, 5, \n"
     ]
    }
   ],
   "source": [
    "for x in np.nditer(a.T, order='C'):\n",
    "    print (x, end=\", \" )\n",
    "print()\n",
    "for x in np.nditer(a, order='F'):\n",
    "    print (x, end=\", \" )\n",
    "print()"
   ]
  },
  {
   "cell_type": "markdown",
   "id": "c8d64432",
   "metadata": {},
   "source": [
    "### 2.外部循环\n",
    "在使用外部循环`external_loop`模式的基础上，**用两种方法实现：**将a矩阵各元素扩大为原来2倍*（提示：C，F及默认顺序任选其二）*"
   ]
  },
  {
   "cell_type": "code",
   "execution_count": 3,
   "id": "68192b3a",
   "metadata": {},
   "outputs": [
    {
     "name": "stdout",
     "output_type": "stream",
     "text": [
      "[[ 0  2  4  6]\n",
      " [ 8 10 12 14]]\n",
      "[[ 0  4  8 12]\n",
      " [16 20 24 28]]\n"
     ]
    }
   ],
   "source": [
    "a = np.arange(8).reshape(2, 4)\n",
    "\n",
    "for x in np.nditer(a, flags=['external_loop'], op_flags=['readwrite']):\n",
    "    x[...]=x*2\n",
    "print(a)\n",
    "for x in np.nditer(a, flags=['external_loop'], op_flags=['readwrite'], order = 'F'):\n",
    "    x[...]=x*2\n",
    "print(a)"
   ]
  },
  {
   "cell_type": "markdown",
   "id": "f475b23b",
   "metadata": {},
   "source": [
    "定义矩阵$A^{m*1}, B^{1*n}$，令$C^{m*n} = AB$，则C为秩一矩阵，要求利用numpy迭代器的`multi_index`模式，实现求C的过程"
   ]
  },
  {
   "cell_type": "code",
   "execution_count": 4,
   "id": "7e62bc34",
   "metadata": {},
   "outputs": [
    {
     "name": "stdout",
     "output_type": "stream",
     "text": [
      "[[1]\n",
      " [2]\n",
      " [3]\n",
      " [4]\n",
      " [5]]\n",
      "[[1 2 3]]\n",
      "[[ 1  2  3]\n",
      " [ 2  4  6]\n",
      " [ 3  6  9]\n",
      " [ 4  8 12]\n",
      " [ 5 10 15]]\n"
     ]
    }
   ],
   "source": [
    "A = np.arange(5).reshape(5,1) + 1\n",
    "B = np.arange(3).reshape(1,3) + 1\n",
    "\n",
    "print(A)\n",
    "print(B)\n",
    "C = np.empty([5,3], dtype=int)\n",
    "idx = np.nditer([A,B], flags =  ['multi_index'])\n",
    "\n",
    "while not idx.finished:\n",
    "    C[idx.multi_index]=idx[0]*idx[1]\n",
    "    is_not_finished = idx.iternext()\n",
    "\n",
    "print(C)"
   ]
  },
  {
   "cell_type": "markdown",
   "id": "5c0ae69a",
   "metadata": {},
   "source": [
    "### 3.U_function\n",
    "自定义一个numpy的ufunc函数，实现`z = 2*x*x+12*y*y`的计算任务，并与利用`numpy`函数实现该任务比较计算时长"
   ]
  },
  {
   "cell_type": "code",
   "execution_count": 5,
   "id": "exempt-peeing",
   "metadata": {},
   "outputs": [
    {
     "name": "stdout",
     "output_type": "stream",
     "text": [
      "time used:0.0019998550415039062s\n",
      "[0 14 56 ... 1399160126 1399440056 1399720014]\n",
      "time used:0.0010027885437011719s\n",
      "[         0         14         56 ... 1399160126 1399440056 1399720014]\n"
     ]
    }
   ],
   "source": [
    "import time\n",
    "x = list(range(10000))\n",
    "y = list(range(10000))\n",
    "def f(x,y):\n",
    "    return 2*x*x+12*y*y\n",
    "x = np.array(x)\n",
    "y = np.array(y)\n",
    "\n",
    "g = np.frompyfunc(f,2,1)\n",
    "t=time.time()\n",
    "z = g(x,y)\n",
    "t=time.time()-t\n",
    "print(f\"time used:{t}s\\n{z}\")\n",
    "\n",
    "t=time.time()\n",
    "z = 2*x*x+12*y*y\n",
    "t=time.time()-t\n",
    "print(f\"time used:{t}s\\n{z}\")"
   ]
  }
 ],
 "metadata": {
  "kernelspec": {
   "display_name": "Python 3",
   "language": "python",
   "name": "python3"
  },
  "language_info": {
   "codemirror_mode": {
    "name": "ipython",
    "version": 3
   },
   "file_extension": ".py",
   "mimetype": "text/x-python",
   "name": "python",
   "nbconvert_exporter": "python",
   "pygments_lexer": "ipython3",
   "version": "3.9.2"
  }
 },
 "nbformat": 4,
 "nbformat_minor": 5
}
