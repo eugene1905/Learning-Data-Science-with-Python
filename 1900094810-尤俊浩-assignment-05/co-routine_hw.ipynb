{
 "cells": [
  {
   "cell_type": "markdown",
   "metadata": {},
   "source": [
    "# 1. async/await\n",
    "\n",
    "使用async、await完成如下程序： \n",
    "\n",
    "主例程等待两个例程结束，其中例程一读取文件 **IBM_2006-01-01_to_2018-01-01.csv** 的单数行，例程二将读取结果写入文件 **new.csv**"
   ]
  },
  {
   "cell_type": "code",
   "execution_count": 28,
   "metadata": {},
   "outputs": [
    {
     "name": "stdout",
     "output_type": "stream",
     "text": [
      "Writing co-routine.py\n"
     ]
    }
   ],
   "source": [
    "%%writefile co-routine.py\n",
    "import asyncio\n",
    "import time\n",
    "import csv\n",
    "res = []\n",
    "async def readfile():\n",
    "    global res\n",
    "    csv_reader = csv.reader(open(\"IBM_2006-01-01_to_2018-01-01.csv\", \"r\"), delimiter=',')\n",
    "    cnt = 0\n",
    "    for row in csv_reader:\n",
    "        cnt += 1\n",
    "        if cnt % 2:\n",
    "            res.append(row)\n",
    "\n",
    "async def writefile():\n",
    "    global res\n",
    "    writer = csv.writer(open('new.csv', mode='w',newline=\"\"), delimiter=\",\")\n",
    "    for i in res:\n",
    "        writer.writerow(i)\n",
    "    \n",
    "async def main():\n",
    "    print(f\"start at {time.strftime('%X')}\")\n",
    "    await readfile()\n",
    "    await writefile()\n",
    "    print(f\"finish at {time.strftime('%X')}\")\n",
    "\n",
    "asyncio.run(main())"
   ]
  },
  {
   "cell_type": "markdown",
   "metadata": {},
   "source": [
    "## 选做\n",
    "\n",
    "将 **AMZN_2006-01-01_to_2018-01-01.csv** 和 **IBM_2006-01-01_to_2018-01-01.csv** 合并成一个文件 **combine.csv**，推荐通过并发技术提高效率（不限协程）。"
   ]
  },
  {
   "cell_type": "code",
   "execution_count": 27,
   "metadata": {},
   "outputs": [
    {
     "name": "stdout",
     "output_type": "stream",
     "text": [
      "Overwriting co-combine.py\n"
     ]
    }
   ],
   "source": [
    "%%writefile co-combine.py\n",
    "import asyncio\n",
    "import time\n",
    "import csv\n",
    "\n",
    "async def readfile(filename):\n",
    "    res = []\n",
    "    csv_reader = csv.reader(open(filename, \"r\"), delimiter=',')\n",
    "    for row in csv_reader:\n",
    "        res.append(row)\n",
    "    return res\n",
    "\n",
    "async def writefile(lst):\n",
    "    writer = csv.writer(open('combine.csv', mode='w',newline=\"\"), delimiter=\",\")\n",
    "    for i in lst:\n",
    "        writer.writerow(i)\n",
    "    \n",
    "async def main():\n",
    "    print(f\"start at {time.strftime('%X')}\")\n",
    "    task1 = asyncio.create_task(readfile(\"AMZN_2006-01-01_to_2018-01-01.csv\"))\n",
    "    task2 = asyncio.create_task(readfile(\"IBM_2006-01-01_to_2018-01-01.csv\"))\n",
    "    lst1 = await task1\n",
    "    lst2 = await task2\n",
    "    lst2.pop(0)\n",
    "    await writefile(lst1+lst2)\n",
    "    print(f\"finish at {time.strftime('%X')}\")\n",
    "\n",
    "asyncio.run(main())"
   ]
  },
  {
   "cell_type": "markdown",
   "metadata": {},
   "source": [
    "# 2. Yield\n",
    "\n",
    "使用yield 完成如下程序：\n",
    "按块读取文件 IBM_2006-01-01_to_2018-01-01.csv，每次返回 BLOKSIZE 行内容"
   ]
  },
  {
   "cell_type": "code",
   "execution_count": 42,
   "metadata": {},
   "outputs": [],
   "source": [
    "def readfile_block():\n",
    "    BLOCK_SIZE = 1024\n",
    "    res = []\n",
    "    csv_reader = csv.reader(open(\"IBM_2006-01-01_to_2018-01-01.csv\", \"r\"), delimiter=',')\n",
    "    cnt = 0\n",
    "    for row in csv_reader:\n",
    "        cnt += 1\n",
    "        res.append(row)\n",
    "        if cnt % BLOCK_SIZE == 0:\n",
    "            yield res\n",
    "            res = []\n",
    "    yield res\n",
    "f = readfile_block()"
   ]
  },
  {
   "cell_type": "code",
   "execution_count": 43,
   "metadata": {},
   "outputs": [
    {
     "name": "stdout",
     "output_type": "stream",
     "text": [
      "3\n"
     ]
    }
   ],
   "source": [
    "# 文件里共有3021行， 3021/1024上取整为3\n",
    "cnt = 0\n",
    "for i in f:\n",
    "    cnt += 1\n",
    "print(cnt)"
   ]
  }
 ],
 "metadata": {
  "kernelspec": {
   "display_name": "Python 3",
   "language": "python",
   "name": "python3"
  },
  "language_info": {
   "codemirror_mode": {
    "name": "ipython",
    "version": 3
   },
   "file_extension": ".py",
   "mimetype": "text/x-python",
   "name": "python",
   "nbconvert_exporter": "python",
   "pygments_lexer": "ipython3",
   "version": "3.9.2"
  },
  "latex_envs": {
   "LaTeX_envs_menu_present": true,
   "autoclose": false,
   "autocomplete": true,
   "bibliofile": "biblio.bib",
   "cite_by": "apalike",
   "current_citInitial": 1,
   "eqLabelWithNumbers": true,
   "eqNumInitial": 1,
   "hotkeys": {
    "equation": "Ctrl-E",
    "itemize": "Ctrl-I"
   },
   "labels_anchors": false,
   "latex_user_defs": false,
   "report_style_numbering": false,
   "user_envs_cfg": false
  }
 },
 "nbformat": 4,
 "nbformat_minor": 2
}
