{
 "cells": [
  {
   "cell_type": "markdown",
   "metadata": {
    "colab": {},
    "colab_type": "code",
    "id": "PZd2TU6lUnK8"
   },
   "source": [
    "# RNN作业"
   ]
  },
  {
   "cell_type": "markdown",
   "metadata": {},
   "source": [
    "本次作业要求实现词性标注任务，给定一个单词，通过RNN和LSTM模型输出单词的词性。\n",
    "\n",
    "所有数据都在data文件夹中，每个文件的命名即其词性。\n",
    "\n",
    "请注意，为了方便比较同学们结果，**读取数据并划分数据集这部分代码不可更改**。\n",
    "\n",
    "后续字符的编码，模型的搭建，模型的训练会给出一个参考baseline模版，同学们可以选择在此baseline模版下构建模型，\n",
    "也可以选择**任意增删改**这部分代码构建自己的模型并优化.（全部删除这部分代码，自己重新写也可以)\n",
    "\n",
    "**同学们还可以考虑用CNN提取序列特征进行分类，此部分实现并在模型评价进行对比，会得到3分的附加分。**\n",
    "\n",
    "**如果觉得自己此部分特别优秀，可以单独写一个readme文件对自己的工作进行描述，会得到1-3分附加分。**\n",
    "\n",
    "最后模型的评价部分要求分别输出RNN模型和LSTM模型在训练集和测试集上的正确率。**注意最终提交的版本必须已经正确显示这四个值,\n",
    "如果需要助教重新跑模型得到结果，会扣除3分。**\n",
    "\n"
   ]
  },
  {
   "cell_type": "code",
   "execution_count": 1,
   "metadata": {},
   "outputs": [],
   "source": [
    "#import packages\n",
    "from io import open\n",
    "import os, string, random, time, math\n",
    "import matplotlib.pyplot as plt\n",
    "import seaborn as sns\n",
    "import numpy as np\n",
    "import glob\n",
    "from sklearn.model_selection import train_test_split\n",
    "import torch \n",
    "import torch.nn as nn\n",
    "import torch.optim as optim\n",
    "from IPython.display import clear_output"
   ]
  },
  {
   "cell_type": "markdown",
   "metadata": {},
   "source": [
    "## 读取数据并划分数据集（勿更改代码）"
   ]
  },
  {
   "cell_type": "code",
   "execution_count": 2,
   "metadata": {},
   "outputs": [],
   "source": [
    "def findFiles(path): \n",
    "    return glob.glob(path)\n",
    "tags = []\n",
    "X = []\n",
    "y = []\n",
    "\n",
    "\n",
    "def readLines(filename):\n",
    "    lines = open(filename, encoding='utf-8').read().strip().split('\\n')\n",
    "    return lines\n",
    "\n",
    "for filename in findFiles('data/*.txt'):\n",
    "    language = os.path.splitext(os.path.basename(filename))[0]\n",
    "    if language not in tags:\n",
    "        tags.append(language)\n",
    "    lines = readLines(filename)\n",
    "    for line in lines:\n",
    "        X.append(line)\n",
    "        y.append(language)\n",
    "\n",
    "n_tags = len(tags)\n",
    "#tags:['CD','IN',...]; n_tags:14\n",
    "\n",
    "X_train, X_test, y_train, y_test = train_test_split(X, y, test_size = 0.2, random_state =10, stratify = y)\n",
    "# X:[higly,hardware,...]; Y:['RB','NN',...]\n",
    "# train:text = 8509 : 2128"
   ]
  },
  {
   "cell_type": "markdown",
   "metadata": {
    "colab": {
     "base_uri": "https://localhost:8080/",
     "height": 34
    },
    "colab_type": "code",
    "id": "cQ8B7F9i--AV",
    "outputId": "10a2fbcc-e22e-41e1-d3be-72bf8550dff1"
   },
   "source": [
    "##  字符的编码"
   ]
  },
  {
   "cell_type": "markdown",
   "metadata": {},
   "source": [
    "本部分所有代码均可根据自己实现需要进行增删改，所给代码只是一种实现的参考模版。"
   ]
  },
  {
   "cell_type": "code",
   "execution_count": 3,
   "metadata": {},
   "outputs": [],
   "source": [
    "# 统计字符\n",
    "s = set()\n",
    "for path in findFiles('data/*.txt'):\n",
    "    f = open(path,\"r\")\n",
    "    for word in f.readlines():\n",
    "        for char in word:\n",
    "            s.add(char)\n",
    "    f.close()\n",
    "all_letters = \"\" #\"X38hl6dNITFrUK,-SQYZVsq1f.4gJPv:cABp\\\\0nWHEM&5\\neaoyu'72@DOCL9mzkw%bj/GixtR\"\n",
    "for c in s:\n",
    "    all_letters+=str(c)\n",
    "\n",
    "n_letters = len(all_letters) #73\n"
   ]
  },
  {
   "cell_type": "code",
   "execution_count": 4,
   "metadata": {
    "colab": {},
    "colab_type": "code",
    "id": "Hyes9BW7CTaU"
   },
   "outputs": [],
   "source": [
    "#function to create name representation\n",
    "def name_rep(name): #One Hot\n",
    "    rep = torch.zeros(len(name), 1, n_letters)\n",
    "    for index, letter in enumerate(name):\n",
    "        pos = all_letters.find(letter)\n",
    "        rep[index][0][pos] = 1\n",
    "    return rep"
   ]
  },
  {
   "cell_type": "code",
   "execution_count": 5,
   "metadata": {
    "colab": {},
    "colab_type": "code",
    "id": "qvsscR5nE67_"
   },
   "outputs": [],
   "source": [
    "#function to create lang representation\n",
    "def nat_rep(lang): #tags to index\n",
    "    return torch.tensor([tags.index(lang)], dtype = torch.long)"
   ]
  },
  {
   "cell_type": "code",
   "execution_count": 6,
   "metadata": {},
   "outputs": [],
   "source": [
    "#create a dataloader\n",
    "def dataloader(batch_size, X_, y_):\n",
    "    to_ret = []\n",
    "    for i in range(batch_size):\n",
    "        index_ = np.random.randint(len(X_))\n",
    "        name, lang = X_[index_], y_[index_] #get the data at the random index\n",
    "        to_ret.append((name, lang, name_rep(name), nat_rep(lang)))\n",
    "\n",
    "    return to_ret"
   ]
  },
  {
   "cell_type": "markdown",
   "metadata": {
    "colab_type": "text",
    "id": "G8WWShboVpY0"
   },
   "source": [
    "## 模型的搭建"
   ]
  },
  {
   "cell_type": "markdown",
   "metadata": {},
   "source": [
    "本部分所有代码均可根据自己实现需要进行增删改，所给代码只是一种实现的参考模版。\n",
    "\n",
    "模型需要分别构建rnn和lstm模型"
   ]
  },
  {
   "cell_type": "code",
   "execution_count": 7,
   "metadata": {
    "colab": {},
    "colab_type": "code",
    "id": "R3lAteTGSRky"
   },
   "outputs": [],
   "source": [
    "# TODO\n",
    "\n",
    "class RNN_net(nn.Module):\n",
    "    def __init__(self, input_size, hidden_size, output_size):\n",
    "        super(RNN_net, self).__init__()\n",
    "        \n",
    "        #Defining some parameters\n",
    "        self.hidden_size = hidden_size\n",
    "        \n",
    "        #Defining the layers\n",
    "        self.i2h = nn.Linear(input_size + hidden_size, hidden_size)\n",
    "        self.i2o = nn.Linear(input_size + hidden_size, output_size)\n",
    "        \n",
    "        #Fully connected layer\n",
    "        self.softmax = nn.LogSoftmax(dim=1)\n",
    "    \n",
    "    def forward(self, input_, hidden):\n",
    "        combined = torch.cat((input_, hidden), 1)\n",
    "        hidden = self.i2h(combined)\n",
    "        output = self.i2o(combined)\n",
    "        output = self.softmax(output)\n",
    "        return output, hidden\n",
    "\n",
    "\n",
    "    def init_hidden(self):\n",
    "        # This method generates the first hidden state of zeros which we'll use in the forward pass\n",
    "        return torch.zeros(1, self.hidden_size)"
   ]
  },
  {
   "cell_type": "code",
   "execution_count": 8,
   "metadata": {},
   "outputs": [],
   "source": [
    "class LSTM_net(nn.Module):\n",
    "    def __init__(self, input_size, hidden_size, output_size):\n",
    "        super(LSTM_net, self).__init__()\n",
    "        \n",
    "        #Defining some parameters\n",
    "        self.hidden_size=hidden_size\n",
    "        \n",
    "        #Defining the layers\n",
    "        self.lstm=nn.LSTM(input_size,hidden_size)\n",
    "        self.out=nn.Linear(hidden_size,output_size)\n",
    "        \n",
    "        #Fully connected layer\n",
    "        self.softmax = nn.LogSoftmax(dim = 1)\n",
    "\n",
    "\n",
    "    def forward(self, input_, hidden):\n",
    "        output, hidden = self.lstm(input_.view(len(input_), 1, -1), hidden)\n",
    "        output = self.out(output.view(len(input_), -1))\n",
    "        output = self.softmax(output)\n",
    "        return output, hidden\n",
    "\n",
    "    def init_hidden(self):\n",
    "        return (torch.zeros(1, 1, self.hidden_size),\n",
    "                torch.zeros(1, 1, self.hidden_size))"
   ]
  },
  {
   "cell_type": "markdown",
   "metadata": {},
   "source": [
    "## 模型的训练\n"
   ]
  },
  {
   "cell_type": "markdown",
   "metadata": {},
   "source": [
    "本部分所有代码均可根据自己实现需要进行增删改，所给代码只是一种实现的参考模版。"
   ]
  },
  {
   "cell_type": "code",
   "execution_count": 9,
   "metadata": {},
   "outputs": [],
   "source": [
    "#function to train the data\n",
    "def train_step(net, opt, criterion, batch_size):\n",
    "    \n",
    "    opt.zero_grad()\n",
    "    total_loss = 0\n",
    "    data_ = dataloader(batch_size, X_train, y_train)\n",
    "    for name, language, name_ohe, lang_rep in data_:\n",
    "\n",
    "        hidden = net.init_hidden()\n",
    "\n",
    "        for i in range(name_ohe.size()[0]):\n",
    "            output, hidden = net(name_ohe[i], hidden)\n",
    "            \n",
    "        loss = criterion(output, lang_rep)\n",
    "        loss.backward(retain_graph=True)\n",
    "        \n",
    "        total_loss += loss\n",
    "        \n",
    "    opt.step()       \n",
    "            \n",
    "    return total_loss/batch_size"
   ]
  },
  {
   "cell_type": "code",
   "execution_count": 10,
   "metadata": {},
   "outputs": [],
   "source": [
    "def train(net, lr = 0.01, steps = 100, batch_size = 10, momentum = 0.9, freq = 5):\n",
    "\n",
    "    criterion = nn.NLLLoss()  # TODO\n",
    "    opt = torch.optim.Adam(net.parameters(), lr=lr)       # TODO\n",
    "    loss_arr = np.zeros(steps)\n",
    "\n",
    "    #iterate through all the batches\n",
    "    for i in range(steps):\n",
    "        loss_arr[i] = train_step(net, opt, criterion, batch_size)\n",
    "        if (i+1)%freq==0: \n",
    "            print(\"Iteration number:\", i + 1,'Loss:', round(loss_arr[i],4))\n",
    "\n",
    "    plt.figure()\n",
    "    plt.plot(loss_arr, \"-*\")\n",
    "    plt.xlabel(\"Iteration\")\n",
    "    plt.ylabel(\"Loss\")\n",
    "    plt.show()\n",
    "    print(\"\\n\\n\")\n"
   ]
  },
  {
   "cell_type": "code",
   "execution_count": 18,
   "metadata": {},
   "outputs": [
    {
     "name": "stdout",
     "output_type": "stream",
     "text": [
      "Iteration number: 5 Loss: 2.5783\n",
      "Iteration number: 10 Loss: 2.4614\n",
      "Iteration number: 15 Loss: 2.3371\n",
      "Iteration number: 20 Loss: 2.1467\n",
      "Iteration number: 25 Loss: 2.1359\n",
      "Iteration number: 30 Loss: 2.1108\n",
      "Iteration number: 35 Loss: 2.0154\n",
      "Iteration number: 40 Loss: 2.0481\n",
      "Iteration number: 45 Loss: 2.0333\n",
      "Iteration number: 50 Loss: 1.9477\n",
      "Iteration number: 55 Loss: 1.9847\n",
      "Iteration number: 60 Loss: 1.8304\n",
      "Iteration number: 65 Loss: 1.8454\n",
      "Iteration number: 70 Loss: 1.8308\n",
      "Iteration number: 75 Loss: 1.7228\n",
      "Iteration number: 80 Loss: 1.7474\n",
      "Iteration number: 85 Loss: 1.8172\n",
      "Iteration number: 90 Loss: 1.5276\n",
      "Iteration number: 95 Loss: 1.6126\n",
      "Iteration number: 100 Loss: 1.6138\n",
      "Iteration number: 105 Loss: 1.6097\n",
      "Iteration number: 110 Loss: 1.4938\n",
      "Iteration number: 115 Loss: 1.4347\n",
      "Iteration number: 120 Loss: 1.5972\n",
      "Iteration number: 125 Loss: 1.6868\n",
      "Iteration number: 130 Loss: 1.5216\n",
      "Iteration number: 135 Loss: 1.4253\n",
      "Iteration number: 140 Loss: 1.5135\n",
      "Iteration number: 145 Loss: 1.4975\n",
      "Iteration number: 150 Loss: 1.4547\n",
      "Iteration number: 155 Loss: 1.4624\n",
      "Iteration number: 160 Loss: 1.2774\n",
      "Iteration number: 165 Loss: 1.2835\n",
      "Iteration number: 170 Loss: 1.2565\n",
      "Iteration number: 175 Loss: 1.2981\n",
      "Iteration number: 180 Loss: 1.293\n",
      "Iteration number: 185 Loss: 1.285\n",
      "Iteration number: 190 Loss: 1.2638\n",
      "Iteration number: 195 Loss: 1.2356\n",
      "Iteration number: 200 Loss: 1.33\n",
      "Iteration number: 205 Loss: 1.15\n",
      "Iteration number: 210 Loss: 1.2797\n",
      "Iteration number: 215 Loss: 1.1923\n",
      "Iteration number: 220 Loss: 1.3024\n",
      "Iteration number: 225 Loss: 1.2477\n",
      "Iteration number: 230 Loss: 1.0798\n",
      "Iteration number: 235 Loss: 1.3264\n",
      "Iteration number: 240 Loss: 1.373\n",
      "Iteration number: 245 Loss: 1.0676\n",
      "Iteration number: 250 Loss: 0.9439\n",
      "Iteration number: 255 Loss: 1.2211\n",
      "Iteration number: 260 Loss: 1.364\n",
      "Iteration number: 265 Loss: 1.1131\n",
      "Iteration number: 270 Loss: 1.1135\n",
      "Iteration number: 275 Loss: 1.2023\n",
      "Iteration number: 280 Loss: 1.2535\n",
      "Iteration number: 285 Loss: 1.1558\n",
      "Iteration number: 290 Loss: 0.9641\n",
      "Iteration number: 295 Loss: 1.0801\n",
      "Iteration number: 300 Loss: 1.0108\n",
      "Iteration number: 305 Loss: 1.0298\n",
      "Iteration number: 310 Loss: 1.028\n",
      "Iteration number: 315 Loss: 1.1987\n",
      "Iteration number: 320 Loss: 1.1964\n",
      "Iteration number: 325 Loss: 1.0885\n",
      "Iteration number: 330 Loss: 1.2253\n",
      "Iteration number: 335 Loss: 0.9299\n",
      "Iteration number: 340 Loss: 1.076\n",
      "Iteration number: 345 Loss: 1.1603\n",
      "Iteration number: 350 Loss: 1.0311\n",
      "Iteration number: 355 Loss: 1.193\n",
      "Iteration number: 360 Loss: 1.022\n",
      "Iteration number: 365 Loss: 0.903\n",
      "Iteration number: 370 Loss: 0.9644\n",
      "Iteration number: 375 Loss: 1.053\n",
      "Iteration number: 380 Loss: 1.0929\n",
      "Iteration number: 385 Loss: 1.0269\n",
      "Iteration number: 390 Loss: 1.0423\n",
      "Iteration number: 395 Loss: 1.3028\n",
      "Iteration number: 400 Loss: 1.0663\n",
      "Iteration number: 405 Loss: 0.9612\n",
      "Iteration number: 410 Loss: 1.0764\n",
      "Iteration number: 415 Loss: 0.9442\n",
      "Iteration number: 420 Loss: 1.1187\n",
      "Iteration number: 425 Loss: 1.0824\n",
      "Iteration number: 430 Loss: 0.877\n",
      "Iteration number: 435 Loss: 0.9857\n",
      "Iteration number: 440 Loss: 0.9849\n",
      "Iteration number: 445 Loss: 0.9768\n",
      "Iteration number: 450 Loss: 1.1014\n",
      "Iteration number: 455 Loss: 1.0105\n",
      "Iteration number: 460 Loss: 1.0638\n",
      "Iteration number: 465 Loss: 1.015\n",
      "Iteration number: 470 Loss: 1.0954\n",
      "Iteration number: 475 Loss: 1.0705\n",
      "Iteration number: 480 Loss: 0.974\n",
      "Iteration number: 485 Loss: 0.9831\n",
      "Iteration number: 490 Loss: 1.1557\n",
      "Iteration number: 495 Loss: 0.9065\n",
      "Iteration number: 500 Loss: 0.9292\n"
     ]
    },
    {
     "data": {
      "image/png": "[encoded data removed]",
      "text/plain": [
       "<Figure size 432x288 with 1 Axes>"
      ]
     },
     "metadata": {
      "needs_background": "light"
     },
     "output_type": "display_data"
    },
    {
     "name": "stdout",
     "output_type": "stream",
     "text": [
      "\n",
      "\n",
      "\n"
     ]
    }
   ],
   "source": [
    "# rnn训练\n",
    "n_hidden = 128\n",
    "rnn_net = RNN_net(n_letters, n_hidden, n_tags)\n",
    "train(rnn_net, lr = 0.0005, steps = 500, batch_size = 256)"
   ]
  },
  {
   "cell_type": "code",
   "execution_count": 20,
   "metadata": {},
   "outputs": [
    {
     "name": "stdout",
     "output_type": "stream",
     "text": [
      "Iteration number: 5 Loss: 2.6188\n",
      "Iteration number: 10 Loss: 2.5585\n",
      "Iteration number: 15 Loss: 2.4539\n",
      "Iteration number: 20 Loss: 2.2537\n",
      "Iteration number: 25 Loss: 2.281\n",
      "Iteration number: 30 Loss: 2.2433\n",
      "Iteration number: 35 Loss: 2.1683\n",
      "Iteration number: 40 Loss: 2.1623\n",
      "Iteration number: 45 Loss: 2.1146\n",
      "Iteration number: 50 Loss: 2.1186\n",
      "Iteration number: 55 Loss: 2.1457\n",
      "Iteration number: 60 Loss: 1.9622\n",
      "Iteration number: 65 Loss: 2.0479\n",
      "Iteration number: 70 Loss: 1.9698\n",
      "Iteration number: 75 Loss: 1.9357\n",
      "Iteration number: 80 Loss: 1.7925\n",
      "Iteration number: 85 Loss: 1.8227\n",
      "Iteration number: 90 Loss: 1.68\n",
      "Iteration number: 95 Loss: 1.65\n",
      "Iteration number: 100 Loss: 1.5949\n",
      "Iteration number: 105 Loss: 1.541\n",
      "Iteration number: 110 Loss: 1.5124\n",
      "Iteration number: 115 Loss: 1.6635\n",
      "Iteration number: 120 Loss: 1.3885\n",
      "Iteration number: 125 Loss: 1.4447\n",
      "Iteration number: 130 Loss: 1.4608\n",
      "Iteration number: 135 Loss: 1.4719\n",
      "Iteration number: 140 Loss: 1.3196\n",
      "Iteration number: 145 Loss: 1.3116\n",
      "Iteration number: 150 Loss: 1.2787\n",
      "Iteration number: 155 Loss: 1.2493\n",
      "Iteration number: 160 Loss: 1.3436\n",
      "Iteration number: 165 Loss: 1.2075\n",
      "Iteration number: 170 Loss: 1.1863\n",
      "Iteration number: 175 Loss: 1.1851\n",
      "Iteration number: 180 Loss: 1.2131\n",
      "Iteration number: 185 Loss: 1.1501\n",
      "Iteration number: 190 Loss: 1.1748\n",
      "Iteration number: 195 Loss: 1.0992\n",
      "Iteration number: 200 Loss: 1.001\n",
      "Iteration number: 205 Loss: 1.085\n",
      "Iteration number: 210 Loss: 1.0336\n",
      "Iteration number: 215 Loss: 1.0007\n",
      "Iteration number: 220 Loss: 0.9436\n",
      "Iteration number: 225 Loss: 1.0075\n",
      "Iteration number: 230 Loss: 0.8762\n",
      "Iteration number: 235 Loss: 0.9658\n",
      "Iteration number: 240 Loss: 1.049\n",
      "Iteration number: 245 Loss: 1.0553\n",
      "Iteration number: 250 Loss: 0.9926\n",
      "Iteration number: 255 Loss: 1.0109\n",
      "Iteration number: 260 Loss: 1.0544\n",
      "Iteration number: 265 Loss: 1.0599\n",
      "Iteration number: 270 Loss: 0.9441\n",
      "Iteration number: 275 Loss: 0.9455\n",
      "Iteration number: 280 Loss: 0.8777\n",
      "Iteration number: 285 Loss: 0.8627\n",
      "Iteration number: 290 Loss: 0.9141\n",
      "Iteration number: 295 Loss: 0.9415\n",
      "Iteration number: 300 Loss: 0.7853\n",
      "Iteration number: 305 Loss: 0.8242\n",
      "Iteration number: 310 Loss: 0.8375\n",
      "Iteration number: 315 Loss: 0.893\n",
      "Iteration number: 320 Loss: 0.8097\n",
      "Iteration number: 325 Loss: 0.8384\n",
      "Iteration number: 330 Loss: 0.8154\n",
      "Iteration number: 335 Loss: 0.8075\n",
      "Iteration number: 340 Loss: 0.8809\n",
      "Iteration number: 345 Loss: 0.8173\n",
      "Iteration number: 350 Loss: 0.7759\n",
      "Iteration number: 355 Loss: 0.8149\n",
      "Iteration number: 360 Loss: 0.8307\n",
      "Iteration number: 365 Loss: 0.823\n",
      "Iteration number: 370 Loss: 0.8342\n",
      "Iteration number: 375 Loss: 0.708\n",
      "Iteration number: 380 Loss: 0.7891\n",
      "Iteration number: 385 Loss: 0.8578\n",
      "Iteration number: 390 Loss: 0.6801\n",
      "Iteration number: 395 Loss: 0.7426\n",
      "Iteration number: 400 Loss: 0.7738\n",
      "Iteration number: 405 Loss: 0.7908\n",
      "Iteration number: 410 Loss: 0.7952\n",
      "Iteration number: 415 Loss: 0.8135\n",
      "Iteration number: 420 Loss: 0.7102\n",
      "Iteration number: 425 Loss: 0.8502\n",
      "Iteration number: 430 Loss: 0.7841\n",
      "Iteration number: 435 Loss: 0.791\n",
      "Iteration number: 440 Loss: 0.6146\n",
      "Iteration number: 445 Loss: 0.755\n",
      "Iteration number: 450 Loss: 0.821\n",
      "Iteration number: 455 Loss: 0.7684\n",
      "Iteration number: 460 Loss: 0.7456\n",
      "Iteration number: 465 Loss: 0.814\n",
      "Iteration number: 470 Loss: 0.8149\n",
      "Iteration number: 475 Loss: 0.7833\n",
      "Iteration number: 480 Loss: 0.6919\n",
      "Iteration number: 485 Loss: 0.8336\n",
      "Iteration number: 490 Loss: 0.7179\n",
      "Iteration number: 495 Loss: 0.7241\n",
      "Iteration number: 500 Loss: 0.6698\n"
     ]
    },
    {
     "data": {
      "image/png": "[encoded data removed]",
      "text/plain": [
       "<Figure size 432x288 with 1 Axes>"
      ]
     },
     "metadata": {
      "needs_background": "light"
     },
     "output_type": "display_data"
    },
    {
     "name": "stdout",
     "output_type": "stream",
     "text": [
      "\n",
      "\n",
      "\n"
     ]
    }
   ],
   "source": [
    "# lstm训练\n",
    "n_hidden = 128\n",
    "lstm_net = LSTM_net(n_letters, n_hidden, n_tags)\n",
    "train(lstm_net, lr = 0.001, steps = 500, batch_size = 256)"
   ]
  },
  {
   "cell_type": "markdown",
   "metadata": {
    "colab_type": "text",
    "id": "MONZ_pPiZGnI"
   },
   "source": [
    "## 模型效果评价\n"
   ]
  },
  {
   "cell_type": "markdown",
   "metadata": {},
   "source": [
    "分别输出RNN模型和LSTM模型在训练集和测试集上的正确率。**注意最终提交的版本必须已经正确显示这四个值,\n",
    "如果需要助教重新跑模型得到结果，会扣除3分。**\n"
   ]
  },
  {
   "cell_type": "code",
   "execution_count": 13,
   "metadata": {},
   "outputs": [],
   "source": [
    "def infer(net, name):\n",
    "    net.eval()\n",
    "    name_ohe = name_rep(name)\n",
    "    hidden = net.init_hidden()\n",
    "\n",
    "    for i in range(name_ohe.size()[0]):\n",
    "        output, hidden = net(name_ohe[i], hidden)\n",
    "\n",
    "    return output"
   ]
  },
  {
   "cell_type": "code",
   "execution_count": 14,
   "metadata": {
    "colab": {},
    "colab_type": "code",
    "id": "nAGLmmwNacBY"
   },
   "outputs": [],
   "source": [
    "#create a function to evaluate model\n",
    "\n",
    "def eval_test(net):\n",
    "     correct = 0\n",
    "     for i in range(len(X_test)):\n",
    "        name,lang = X_test[i],y_test[i]\n",
    "        name_ohe = name_rep(name)\n",
    "        lang_rep = nat_rep(lang)\n",
    "        output = infer(net, name) \n",
    "        val, indices = output.topk(1) \n",
    "    \n",
    "        if indices == lang_rep:\n",
    "            correct += 1\n",
    "     accuracy = correct/len(X_test)\n",
    "\n",
    "     return accuracy"
   ]
  },
  {
   "cell_type": "code",
   "execution_count": 15,
   "metadata": {},
   "outputs": [],
   "source": [
    "#create a function to evaluate model\n",
    "\n",
    "def eval_train(net):\n",
    "     correct = 0\n",
    "     for i in range(len(X_train)):\n",
    "        name,lang = X_train[i],y_train[i]\n",
    "        name_ohe = name_rep(name)\n",
    "        lang_rep = nat_rep(lang)\n",
    "        output = infer(net, name) \n",
    "        val, indices = output.topk(1) \n",
    "    \n",
    "        if indices == lang_rep:\n",
    "            correct += 1\n",
    "     accuracy = correct/len(X_train)\n",
    "\n",
    "     return accuracy"
   ]
  },
  {
   "cell_type": "code",
   "execution_count": 19,
   "metadata": {
    "colab": {
     "base_uri": "https://localhost:8080/",
     "height": 34
    },
    "colab_type": "code",
    "id": "BI5ItvwdXx3w",
    "outputId": "3e37ac9e-fc46-4231-bc58-de49d11d173e"
   },
   "outputs": [
    {
     "name": "stdout",
     "output_type": "stream",
     "text": [
      "rnn结果\n",
      "train set accuracy:0.7128\n",
      "test set accuracy:0.6913\n"
     ]
    }
   ],
   "source": [
    "print(\"rnn结果\")\n",
    "print(\"train set accuracy:\"+str(round(eval_train(rnn_net),4)))\n",
    "print(\"test set accuracy:\"+str(round(eval_test(rnn_net),4)))"
   ]
  },
  {
   "cell_type": "code",
   "execution_count": 21,
   "metadata": {
    "colab": {},
    "colab_type": "code",
    "id": "tWqm3pgUaJgl"
   },
   "outputs": [
    {
     "name": "stdout",
     "output_type": "stream",
     "text": [
      "LSTM结果\n",
      "train set accuracy:0.7547\n",
      "test set accuracy:0.7472\n"
     ]
    }
   ],
   "source": [
    "print(\"LSTM结果\")\n",
    "print(\"train set accuracy:\"+str(round(eval_train(lstm_net),4)))\n",
    "print(\"test set accuracy:\"+str(round(eval_test(lstm_net),4)))"
   ]
  }
 ],
 "metadata": {
  "accelerator": "GPU",
  "colab": {
   "collapsed_sections": [],
   "name": "Name2Nation.ipynb",
   "provenance": []
  },
  "kernelspec": {
   "display_name": "Python 3",
   "language": "python",
   "name": "python3"
  },
  "language_info": {
   "codemirror_mode": {
    "name": "ipython",
    "version": 3
   },
   "file_extension": ".py",
   "mimetype": "text/x-python",
   "name": "python",
   "nbconvert_exporter": "python",
   "pygments_lexer": "ipython3",
   "version": "3.8.0"
  }
 },
 "nbformat": 4,
 "nbformat_minor": 4
}
